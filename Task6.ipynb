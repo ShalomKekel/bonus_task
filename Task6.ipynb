{
  "nbformat": 4,
  "nbformat_minor": 0,
  "metadata": {
    "colab": {
      "provenance": []
    },
    "kernelspec": {
      "name": "python3",
      "display_name": "Python 3"
    },
    "language_info": {
      "name": "python"
    }
  },
  "cells": [
    {
      "cell_type": "markdown",
      "source": [
        "Напишите программу, которой на вход подается последовательность чисел через пробел, а также запрашивается у пользователя любое число.\n",
        "\n",
        "В качестве задания повышенного уровня сложности можете выполнить проверку соответствия указанному в условии ввода данных.\n",
        "\n",
        "Далее программа работает по следующему алгоритму:\n",
        "\n",
        "Преобразование введённой последовательности в список\n",
        "\n",
        "Сортировка списка по возрастанию элементов в нем (для реализации сортировки определите функцию)\n",
        "\n",
        "Устанавливается номер позиции элемента, который меньше введенного пользователем числа, а следующий за ним больше или равен этому числу.\n",
        "\n",
        "При установке позиции элемента воспользуйтесь алгоритмом двоичного поиска, который был рассмотрен в этом модуле. Реализуйте его также отдельной функцией.\n",
        "\n",
        "Подсказка\n",
        "\n",
        "Помните, что у вас есть числа, которые могут не соответствовать заданному условию. В этом случае необходимо вывести соответствующее сообщение"
      ],
      "metadata": {
        "id": "6-Ym1PAVhu5d"
      }
    },
    {
      "cell_type": "code",
      "source": [
        "def str2seq(input_str:str):\n",
        "    \"\"\"\n",
        "    Функция, которая принимает строку в качестве аргумента и\n",
        "    преобразует ее в список чисел.\n",
        "    \"\"\"\n",
        "    if not isinstance(input_str, str):\n",
        "        raise TypeError(\"Аргумент должен быть строкой\")\n",
        "\n",
        "    try:\n",
        "        numbers =  list(map(int, input_str.split()))\n",
        "    except ValueError:\n",
        "        raise ValueError(\"Строка должна содержать только числа, разделенные пробелами\")\n",
        "\n",
        "    return numbers"
      ],
      "metadata": {
        "id": "nWWm040YiMvJ"
      },
      "execution_count": 1,
      "outputs": []
    },
    {
      "cell_type": "code",
      "source": [
        "array = str2seq(input('Введите вашу последовательность чисел через пробел: '))"
      ],
      "metadata": {
        "colab": {
          "base_uri": "https://localhost:8080/"
        },
        "id": "VBfou8EQh6Lb",
        "outputId": "e48072ab-434d-41f4-f1a5-25c8c38f6be6"
      },
      "execution_count": 2,
      "outputs": [
        {
          "name": "stdout",
          "output_type": "stream",
          "text": [
            "Введите вашу последовательность чисел через пробел: 1 2 3 6 3 8 3 56 4 7\n"
          ]
        }
      ]
    },
    {
      "cell_type": "code",
      "source": [
        "assert str2seq('1 2 3 4 5') == [1, 2, 3, 4, 5]\n",
        "print('Все ок')"
      ],
      "metadata": {
        "colab": {
          "base_uri": "https://localhost:8080/"
        },
        "id": "3mbEaJKcj9VY",
        "outputId": "833fe352-0642-4fdd-e335-2d1d5fc75c0b"
      },
      "execution_count": 3,
      "outputs": [
        {
          "output_type": "stream",
          "name": "stdout",
          "text": [
            "Все ок\n"
          ]
        }
      ]
    },
    {
      "cell_type": "code",
      "source": [
        "def merge(left, right):\n",
        "    result = []\n",
        "    i, j = 0, 0\n",
        "\n",
        "    while i < len(left) and j < len(right):\n",
        "        if left[i] < right[j]:\n",
        "            result.append(left[i])\n",
        "            i += 1\n",
        "        else:\n",
        "            result.append(right[j])\n",
        "            j += 1\n",
        "\n",
        "    while i < len(left):\n",
        "        result.append(left[i])\n",
        "        i += 1\n",
        "\n",
        "    while j < len(right):\n",
        "        result.append(right[j])\n",
        "        j += 1\n",
        "\n",
        "    return result"
      ],
      "metadata": {
        "id": "8fhmAMfvkifj"
      },
      "execution_count": 4,
      "outputs": []
    },
    {
      "cell_type": "code",
      "source": [
        "def merge_sort(array):  # \"разделяй\"\n",
        "    if len(array) < 2:  # если кусок массива равен 2,\n",
        "        return array[:]  # выход из рекурсии\n",
        "    else:\n",
        "        middle = len(array) // 2  # ищем середину\n",
        "        left = merge_sort(array[:middle])  # рекурсивно делим левую часть\n",
        "        right = merge_sort(array[middle:])  # и правую\n",
        "        return merge(left, right)  # выполняем слияние"
      ],
      "metadata": {
        "id": "esrukspnkfpZ"
      },
      "execution_count": 5,
      "outputs": []
    },
    {
      "cell_type": "code",
      "source": [
        "print(merge_sort(array))"
      ],
      "metadata": {
        "colab": {
          "base_uri": "https://localhost:8080/"
        },
        "id": "no2c-yY2kkVr",
        "outputId": "5716b739-cda7-403d-9517-f8d119ef2452"
      },
      "execution_count": 6,
      "outputs": [
        {
          "output_type": "stream",
          "name": "stdout",
          "text": [
            "[1, 2, 3, 3, 3, 4, 6, 7, 8, 56]\n"
          ]
        }
      ]
    },
    {
      "cell_type": "code",
      "source": [
        "def binary_search(array, element, left, right):\n",
        "    if left > right:  # если левая граница превысила правую,\n",
        "        return False  # значит элемент отсутствует\n",
        "\n",
        "    middle = (right + left) // 2  # находимо середину\n",
        "    if array[middle] == element:  # если элемент в середине,\n",
        "        return middle  # возвращаем этот индекс\n",
        "    elif element < array[middle]:  # если элемент меньше элемента в середине\n",
        "        # рекурсивно ищем в левой половине\n",
        "        return binary_search(array, element, left, middle - 1)\n",
        "    else:  # иначе в правой\n",
        "        return binary_search(array, element, middle + 1, right)"
      ],
      "metadata": {
        "id": "4JFDlwDukpAn"
      },
      "execution_count": 7,
      "outputs": []
    },
    {
      "cell_type": "code",
      "source": [
        "def str2num(input_str:str):\n",
        "    \"\"\"\n",
        "    Функция, которая принимает строку в качестве аргумента и\n",
        "    преобразует ее в число в диапазоне [0, 999].\n",
        "    \"\"\"\n",
        "    if not isinstance(input_str, str):\n",
        "        raise TypeError(\"Аргумент должен быть строкой\")\n",
        "\n",
        "    try:\n",
        "        element = int(input_str)\n",
        "    except ValueError:\n",
        "        raise ValueError(\"Строка должна содержать только число\")\n",
        "\n",
        "    if element < 0 or element > 999:\n",
        "        raise ValueError(\"Число должно находиться в диапазоне [0, 999]\")\n",
        "\n",
        "    return element"
      ],
      "metadata": {
        "id": "lszeix9_kvuo"
      },
      "execution_count": 8,
      "outputs": []
    },
    {
      "cell_type": "code",
      "source": [
        "element = str2num(input())"
      ],
      "metadata": {
        "colab": {
          "base_uri": "https://localhost:8080/"
        },
        "id": "mBwA5CdtmYL9",
        "outputId": "161a2182-4c36-4ade-ec0b-140618df0512"
      },
      "execution_count": 9,
      "outputs": [
        {
          "name": "stdout",
          "output_type": "stream",
          "text": [
            "3\n"
          ]
        }
      ]
    },
    {
      "cell_type": "code",
      "source": [
        "print(binary_search(array, element, 0,  len(array)))"
      ],
      "metadata": {
        "colab": {
          "base_uri": "https://localhost:8080/"
        },
        "id": "tKarxpKOhllp",
        "outputId": "324907af-a867-4caf-8a99-2f4bd686bf2d"
      },
      "execution_count": 10,
      "outputs": [
        {
          "output_type": "stream",
          "name": "stdout",
          "text": [
            "2\n"
          ]
        }
      ]
    }
  ]
}